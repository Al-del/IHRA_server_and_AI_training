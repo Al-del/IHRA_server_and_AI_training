{
 "cells": [
  {
   "cell_type": "code",
   "execution_count": 31,
   "metadata": {},
   "outputs": [
    {
     "name": "stdout",
     "output_type": "stream",
     "text": [
      "Warning: Your Kaggle API key is readable by other users on this system! To fix this, you can run 'chmod 600 /home/dabid/.kaggle/kaggle.json'\n",
      "playground-series-s5e5.zip: Skipping, found more recently modified local copy (use --force to force download)\n"
     ]
    }
   ],
   "source": [
    "!kaggle competitions download -c playground-series-s5e5"
   ]
  },
  {
   "cell_type": "code",
   "execution_count": 32,
   "metadata": {},
   "outputs": [
    {
     "name": "stdout",
     "output_type": "stream",
     "text": [
      "Archive:  playground-series-s5e5.zip\n",
      "replace sample_submission.csv? [y]es, [n]o, [A]ll, [N]one, [r]ename: ^C\n"
     ]
    }
   ],
   "source": [
    "!unzip playground-series-s5e5.zip"
   ]
  },
  {
   "cell_type": "code",
   "execution_count": 28,
   "metadata": {},
   "outputs": [
    {
     "data": {
      "text/html": [
       "<div>\n",
       "<style scoped>\n",
       "    .dataframe tbody tr th:only-of-type {\n",
       "        vertical-align: middle;\n",
       "    }\n",
       "\n",
       "    .dataframe tbody tr th {\n",
       "        vertical-align: top;\n",
       "    }\n",
       "\n",
       "    .dataframe thead th {\n",
       "        text-align: right;\n",
       "    }\n",
       "</style>\n",
       "<table border=\"1\" class=\"dataframe\">\n",
       "  <thead>\n",
       "    <tr style=\"text-align: right;\">\n",
       "      <th></th>\n",
       "      <th>Sex</th>\n",
       "      <th>Age</th>\n",
       "      <th>Height</th>\n",
       "      <th>Weight</th>\n",
       "      <th>Duration</th>\n",
       "      <th>Heart_Rate</th>\n",
       "      <th>Body_Temp</th>\n",
       "      <th>Calories</th>\n",
       "    </tr>\n",
       "  </thead>\n",
       "  <tbody>\n",
       "    <tr>\n",
       "      <th>0</th>\n",
       "      <td>male</td>\n",
       "      <td>36</td>\n",
       "      <td>189.0</td>\n",
       "      <td>82.0</td>\n",
       "      <td>26.0</td>\n",
       "      <td>101.0</td>\n",
       "      <td>41.0</td>\n",
       "      <td>150.0</td>\n",
       "    </tr>\n",
       "    <tr>\n",
       "      <th>1</th>\n",
       "      <td>female</td>\n",
       "      <td>64</td>\n",
       "      <td>163.0</td>\n",
       "      <td>60.0</td>\n",
       "      <td>8.0</td>\n",
       "      <td>85.0</td>\n",
       "      <td>39.7</td>\n",
       "      <td>34.0</td>\n",
       "    </tr>\n",
       "    <tr>\n",
       "      <th>2</th>\n",
       "      <td>female</td>\n",
       "      <td>51</td>\n",
       "      <td>161.0</td>\n",
       "      <td>64.0</td>\n",
       "      <td>7.0</td>\n",
       "      <td>84.0</td>\n",
       "      <td>39.8</td>\n",
       "      <td>29.0</td>\n",
       "    </tr>\n",
       "    <tr>\n",
       "      <th>3</th>\n",
       "      <td>male</td>\n",
       "      <td>20</td>\n",
       "      <td>192.0</td>\n",
       "      <td>90.0</td>\n",
       "      <td>25.0</td>\n",
       "      <td>105.0</td>\n",
       "      <td>40.7</td>\n",
       "      <td>140.0</td>\n",
       "    </tr>\n",
       "    <tr>\n",
       "      <th>4</th>\n",
       "      <td>female</td>\n",
       "      <td>38</td>\n",
       "      <td>166.0</td>\n",
       "      <td>61.0</td>\n",
       "      <td>25.0</td>\n",
       "      <td>102.0</td>\n",
       "      <td>40.6</td>\n",
       "      <td>146.0</td>\n",
       "    </tr>\n",
       "  </tbody>\n",
       "</table>\n",
       "</div>"
      ],
      "text/plain": [
       "      Sex  Age  Height  Weight  Duration  Heart_Rate  Body_Temp  Calories\n",
       "0    male   36   189.0    82.0      26.0       101.0       41.0     150.0\n",
       "1  female   64   163.0    60.0       8.0        85.0       39.7      34.0\n",
       "2  female   51   161.0    64.0       7.0        84.0       39.8      29.0\n",
       "3    male   20   192.0    90.0      25.0       105.0       40.7     140.0\n",
       "4  female   38   166.0    61.0      25.0       102.0       40.6     146.0"
      ]
     },
     "execution_count": 28,
     "metadata": {},
     "output_type": "execute_result"
    }
   ],
   "source": [
    "import pandas as pd\n",
    "df_train = pd.read_csv(\"./train.csv\").drop([\"id\"], axis = 1)\n",
    "df_test = pd.read_csv(\"./test.csv\")\n",
    "id_test = df_test[\"id\"]\n",
    "df_test = df_test.drop([\"id\"], axis= 1)\n",
    "df_train.head(5)"
   ]
  },
  {
   "cell_type": "code",
   "execution_count": 29,
   "metadata": {},
   "outputs": [],
   "source": [
    "X, y = df_train.drop([\"Duration\"], axis = 1), df_train[\"Duration\"]\n",
    "X_test = df_test"
   ]
  },
  {
   "cell_type": "code",
   "execution_count": 30,
   "metadata": {},
   "outputs": [],
   "source": [
    "num_col = [col for col in X_test.columns if X_test[col].dtype != \"O\" and col !=\"Duration\"]\n",
    "cat_col = [col for col in X_test.columns if X_test[col].dtype == \"O\" and col !=\"Duration\"]"
   ]
  },
  {
   "cell_type": "code",
   "execution_count": 31,
   "metadata": {},
   "outputs": [
    {
     "data": {
      "text/plain": [
       "['catboost_full_pipeline.pkl']"
      ]
     },
     "execution_count": 31,
     "metadata": {},
     "output_type": "execute_result"
    }
   ],
   "source": [
    "from sklearn.impute import SimpleImputer\n",
    "from sklearn.pipeline import Pipeline as SkPipeline\n",
    "from sklearn.compose import ColumnTransformer\n",
    "from sklearn.preprocessing import StandardScaler, OneHotEncoder\n",
    "from catboost import CatBoostRegressor\n",
    "import joblib\n",
    "\n",
    "# Preprocessing pipelines for numeric and categorical features\n",
    "num_pipe = SkPipeline(steps=[\n",
    "    (\"impute\", SimpleImputer(strategy=\"mean\")),\n",
    "    (\"scale\", StandardScaler())\n",
    "])\n",
    "\n",
    "cat_pipe = SkPipeline(steps=[\n",
    "    (\"impute\", SimpleImputer(strategy=\"most_frequent\")),\n",
    "    (\"one_hot_encode\", OneHotEncoder(handle_unknown=\"ignore\"))\n",
    "])\n",
    "\n",
    "preprocessor = ColumnTransformer(transformers=[\n",
    "    (\"num\", num_pipe, num_col),\n",
    "    (\"cat\", cat_pipe, cat_col)\n",
    "])\n",
    "\n",
    "cat_dict = {\n",
    "    'iterations': 854,\n",
    "    'depth': 9,\n",
    "    'learning_rate': 0.09593085470665648,\n",
    "    'l2_leaf_reg': 1.9207743346721886,\n",
    "    'verbose': 0  # optional: suppress output\n",
    "}\n",
    "catboost_model = CatBoostRegressor(**cat_dict)\n",
    "\n",
    "full_pipeline = SkPipeline(steps=[\n",
    "    (\"preprocessing\", preprocessor),\n",
    "    (\"model\", catboost_model)\n",
    "])\n",
    "\n",
    "full_pipeline.fit(X, y)  # make sure X_raw is unprocessed (with both num and cat cols)\n",
    "\n",
    "joblib.dump(full_pipeline, \"workout_pred_pipe.pkl\")\n",
    "\n"
   ]
  },
  {
   "cell_type": "code",
   "execution_count": 5,
   "metadata": {},
   "outputs": [
    {
     "name": "stderr",
     "output_type": "stream",
     "text": [
      "[I 2025-07-20 17:20:05,343] A new study created in memory with name: no-name-16f95ebf-e43c-4198-90a7-5b84bdea7632\n"
     ]
    },
    {
     "name": "stdout",
     "output_type": "stream",
     "text": [
      "\n",
      "=== Outer Fold 1/5 ===\n"
     ]
    },
    {
     "name": "stderr",
     "output_type": "stream",
     "text": [
      "[I 2025-07-20 17:20:46,514] Trial 0 finished with value: -1.610768588082875 and parameters: {'iterations': 918, 'depth': 9, 'learning_rate': 0.23799920395962695, 'l2_leaf_reg': 0.3694222599375157}. Best is trial 0 with value: -1.610768588082875.\n",
      "[I 2025-07-20 17:21:16,159] Trial 1 finished with value: -1.60742660824305 and parameters: {'iterations': 798, 'depth': 7, 'learning_rate': 0.11952681177354277, 'l2_leaf_reg': 0.00838214549462687}. Best is trial 1 with value: -1.60742660824305.\n",
      "[I 2025-07-20 17:21:42,888] Trial 2 finished with value: -1.616397850554964 and parameters: {'iterations': 951, 'depth': 4, 'learning_rate': 0.07560948489133629, 'l2_leaf_reg': 0.23552202411654238}. Best is trial 1 with value: -1.60742660824305.\n",
      "[I 2025-07-20 17:21:59,120] Trial 3 finished with value: -1.6107689186477014 and parameters: {'iterations': 433, 'depth': 7, 'learning_rate': 0.11784788290486062, 'l2_leaf_reg': 0.03494257140639944}. Best is trial 1 with value: -1.60742660824305.\n",
      "[I 2025-07-20 17:22:20,746] Trial 4 finished with value: -1.6160341119361126 and parameters: {'iterations': 741, 'depth': 4, 'learning_rate': 0.10346838816823718, 'l2_leaf_reg': 0.03146382009430844}. Best is trial 1 with value: -1.60742660824305.\n",
      "[I 2025-07-20 17:22:37,299] Trial 5 finished with value: -1.6145468154469302 and parameters: {'iterations': 547, 'depth': 5, 'learning_rate': 0.12167018000532737, 'l2_leaf_reg': 0.004012664827473514}. Best is trial 1 with value: -1.60742660824305.\n",
      "[I 2025-07-20 17:22:52,316] Trial 6 finished with value: -1.6177274699885509 and parameters: {'iterations': 387, 'depth': 6, 'learning_rate': 0.07161572166622285, 'l2_leaf_reg': 0.009241425692137954}. Best is trial 1 with value: -1.60742660824305.\n",
      "[I 2025-07-20 17:23:14,945] Trial 7 finished with value: -1.6166238870767515 and parameters: {'iterations': 596, 'depth': 7, 'learning_rate': 0.039621652422004924, 'l2_leaf_reg': 0.16850531821726578}. Best is trial 1 with value: -1.60742660824305.\n",
      "[I 2025-07-20 17:23:29,777] Trial 8 finished with value: -1.6246809754226323 and parameters: {'iterations': 407, 'depth': 6, 'learning_rate': 0.030323250273916042, 'l2_leaf_reg': 0.00665288295328788}. Best is trial 1 with value: -1.60742660824305.\n",
      "[I 2025-07-20 17:23:55,679] Trial 9 finished with value: -1.6163630559700375 and parameters: {'iterations': 758, 'depth': 6, 'learning_rate': 0.04188321580719393, 'l2_leaf_reg': 0.010449691770408165}. Best is trial 1 with value: -1.60742660824305.\n",
      "[I 2025-07-20 17:24:01,043] Trial 10 finished with value: -2.900302060978076 and parameters: {'iterations': 101, 'depth': 10, 'learning_rate': 0.011359137755371135, 'l2_leaf_reg': 5.849345838603746}. Best is trial 1 with value: -1.60742660824305.\n",
      "[I 2025-07-20 17:24:42,916] Trial 11 finished with value: -1.6143847173247243 and parameters: {'iterations': 949, 'depth': 9, 'learning_rate': 0.2880002150649264, 'l2_leaf_reg': 0.6511046355127508}. Best is trial 1 with value: -1.60742660824305.\n",
      "[I 2025-07-20 17:25:18,819] Trial 12 finished with value: -1.614238834689053 and parameters: {'iterations': 812, 'depth': 9, 'learning_rate': 0.27987615345503086, 'l2_leaf_reg': 0.001039985286624878}. Best is trial 1 with value: -1.60742660824305.\n",
      "[I 2025-07-20 17:25:59,443] Trial 13 finished with value: -1.6066732708630889 and parameters: {'iterations': 985, 'depth': 8, 'learning_rate': 0.1855489416737746, 'l2_leaf_reg': 1.8291777252260435}. Best is trial 13 with value: -1.6066732708630889.\n",
      "[I 2025-07-20 17:26:31,397] Trial 14 finished with value: -1.6059127770820056 and parameters: {'iterations': 864, 'depth': 8, 'learning_rate': 0.15822091553526582, 'l2_leaf_reg': 5.475075291720833}. Best is trial 14 with value: -1.6059127770820056.\n",
      "[I 2025-07-20 17:27:06,833] Trial 15 finished with value: -1.6057263544260845 and parameters: {'iterations': 993, 'depth': 8, 'learning_rate': 0.19131668085654097, 'l2_leaf_reg': 7.836727220299755}. Best is trial 15 with value: -1.6057263544260845.\n",
      "[I 2025-07-20 17:27:39,645] Trial 16 finished with value: -1.6056017387055892 and parameters: {'iterations': 878, 'depth': 8, 'learning_rate': 0.18126279697655817, 'l2_leaf_reg': 8.127767328289979}. Best is trial 16 with value: -1.6056017387055892.\n",
      "[I 2025-07-20 17:28:07,986] Trial 17 finished with value: -1.6170431291639085 and parameters: {'iterations': 662, 'depth': 10, 'learning_rate': 0.020665958921726662, 'l2_leaf_reg': 1.6988837821513756}. Best is trial 16 with value: -1.6056017387055892.\n",
      "[I 2025-07-20 17:28:15,287] Trial 18 finished with value: -1.6151497056526294 and parameters: {'iterations': 161, 'depth': 8, 'learning_rate': 0.17809278649758178, 'l2_leaf_reg': 8.591552107851516}. Best is trial 16 with value: -1.6056017387055892.\n",
      "[I 2025-07-20 17:28:31,912] Trial 19 finished with value: -1.622817692017606 and parameters: {'iterations': 680, 'depth': 3, 'learning_rate': 0.07286038856539921, 'l2_leaf_reg': 2.037716215166481}. Best is trial 16 with value: -1.6056017387055892.\n",
      "[I 2025-07-20 17:29:05,759] Trial 20 finished with value: -1.6069431774682255 and parameters: {'iterations': 870, 'depth': 8, 'learning_rate': 0.1938818028161267, 'l2_leaf_reg': 0.8254929961735584}. Best is trial 16 with value: -1.6056017387055892.\n",
      "[I 2025-07-20 17:29:41,458] Trial 21 finished with value: -1.6060603434954217 and parameters: {'iterations': 861, 'depth': 8, 'learning_rate': 0.1810292446373021, 'l2_leaf_reg': 5.240772810816231}. Best is trial 16 with value: -1.6056017387055892.\n",
      "[I 2025-07-20 17:30:19,940] Trial 22 finished with value: -1.6052287294267422 and parameters: {'iterations': 872, 'depth': 9, 'learning_rate': 0.16115012512815505, 'l2_leaf_reg': 4.469648991948942}. Best is trial 22 with value: -1.6052287294267422.\n"
     ]
    },
    {
     "name": "stdout",
     "output_type": "stream",
     "text": [
      "Best hyperparameters: {'iterations': 872, 'depth': 9, 'learning_rate': 0.16115012512815505, 'l2_leaf_reg': 4.469648991948942}\n",
      "Best inner CV score (MAE): 1.6052287294267422\n",
      "Fold MAE: 1.5996\n",
      "\n",
      "=== Outer Fold 2/5 ===\n"
     ]
    },
    {
     "name": "stderr",
     "output_type": "stream",
     "text": [
      "[I 2025-07-20 17:30:39,079] A new study created in memory with name: no-name-235aac0e-15e3-420b-ac4e-d1e516fde6a9\n",
      "[I 2025-07-20 17:30:43,566] Trial 0 finished with value: -1.7345299760802302 and parameters: {'iterations': 153, 'depth': 3, 'learning_rate': 0.022728198821024732, 'l2_leaf_reg': 0.7602536549394665}. Best is trial 0 with value: -1.7345299760802302.\n",
      "[I 2025-07-20 17:31:06,555] Trial 1 finished with value: -1.617727869806071 and parameters: {'iterations': 748, 'depth': 5, 'learning_rate': 0.05770014541038737, 'l2_leaf_reg': 0.47657668467452735}. Best is trial 1 with value: -1.617727869806071.\n",
      "[I 2025-07-20 17:31:30,292] Trial 2 finished with value: -1.6248346670007117 and parameters: {'iterations': 802, 'depth': 5, 'learning_rate': 0.01891244086063168, 'l2_leaf_reg': 0.004265036198062904}. Best is trial 1 with value: -1.617727869806071.\n",
      "[I 2025-07-20 17:31:44,791] Trial 3 finished with value: -1.6114761571528013 and parameters: {'iterations': 415, 'depth': 7, 'learning_rate': 0.13079637667599542, 'l2_leaf_reg': 5.683875355908104}. Best is trial 3 with value: -1.6114761571528013.\n",
      "[I 2025-07-20 17:32:05,031] Trial 4 finished with value: -1.6275158653884247 and parameters: {'iterations': 885, 'depth': 3, 'learning_rate': 0.029389548262004427, 'l2_leaf_reg': 0.5222929350474761}. Best is trial 3 with value: -1.6114761571528013.\n",
      "[I 2025-07-20 17:32:26,176] Trial 5 finished with value: -1.6087475559329836 and parameters: {'iterations': 564, 'depth': 8, 'learning_rate': 0.29274325556752173, 'l2_leaf_reg': 0.48063308111869574}. Best is trial 5 with value: -1.6087475559329836.\n",
      "[I 2025-07-20 17:32:48,633] Trial 6 finished with value: -1.6077779668573016 and parameters: {'iterations': 612, 'depth': 7, 'learning_rate': 0.25677255817638683, 'l2_leaf_reg': 0.7850841452599652}. Best is trial 6 with value: -1.6077779668573016.\n",
      "[I 2025-07-20 17:33:15,724] Trial 7 finished with value: -1.6078600366689615 and parameters: {'iterations': 655, 'depth': 8, 'learning_rate': 0.10338272264778092, 'l2_leaf_reg': 0.024520263670065084}. Best is trial 6 with value: -1.6077779668573016.\n",
      "[I 2025-07-20 17:33:32,864] Trial 8 finished with value: -1.6085610575533387 and parameters: {'iterations': 405, 'depth': 8, 'learning_rate': 0.20288721385566294, 'l2_leaf_reg': 0.00229796069626046}. Best is trial 6 with value: -1.6077779668573016.\n",
      "[I 2025-07-20 17:33:51,517] Trial 9 finished with value: -1.6164397956103738 and parameters: {'iterations': 617, 'depth': 5, 'learning_rate': 0.07871259645032067, 'l2_leaf_reg': 0.47709792664431183}. Best is trial 6 with value: -1.6077779668573016.\n",
      "[I 2025-07-20 17:33:57,932] Trial 10 finished with value: -2.610114030228798 and parameters: {'iterations': 127, 'depth': 10, 'learning_rate': 0.010505831893340964, 'l2_leaf_reg': 0.0351589190383244}. Best is trial 6 with value: -1.6077779668573016.\n",
      "[I 2025-07-20 17:34:40,722] Trial 11 finished with value: -1.6067290096339855 and parameters: {'iterations': 974, 'depth': 10, 'learning_rate': 0.12033565021441743, 'l2_leaf_reg': 0.027219367407786958}. Best is trial 11 with value: -1.6067290096339855.\n",
      "[I 2025-07-20 17:35:25,079] Trial 12 finished with value: -1.6059982053435433 and parameters: {'iterations': 944, 'depth': 10, 'learning_rate': 0.17938694213641887, 'l2_leaf_reg': 7.021979528428663}. Best is trial 12 with value: -1.6059982053435433.\n",
      "[I 2025-07-20 17:36:09,783] Trial 13 finished with value: -1.605563502251256 and parameters: {'iterations': 992, 'depth': 10, 'learning_rate': 0.15243255879243758, 'l2_leaf_reg': 5.569132930316512}. Best is trial 13 with value: -1.605563502251256.\n",
      "[I 2025-07-20 17:36:55,029] Trial 14 finished with value: -1.6053956780568923 and parameters: {'iterations': 973, 'depth': 10, 'learning_rate': 0.1703849156861614, 'l2_leaf_reg': 9.607369355647396}. Best is trial 14 with value: -1.6053956780568923.\n",
      "[I 2025-07-20 17:37:39,299] Trial 15 finished with value: -1.60762539369643 and parameters: {'iterations': 997, 'depth': 9, 'learning_rate': 0.050265214476962444, 'l2_leaf_reg': 2.6825470126163036}. Best is trial 14 with value: -1.6053956780568923.\n",
      "[I 2025-07-20 17:38:16,999] Trial 16 finished with value: -1.6057718223413715 and parameters: {'iterations': 819, 'depth': 9, 'learning_rate': 0.16543127766354288, 'l2_leaf_reg': 2.257826285659032}. Best is trial 14 with value: -1.6053956780568923.\n",
      "[I 2025-07-20 17:38:49,938] Trial 17 finished with value: -1.6076378960077795 and parameters: {'iterations': 729, 'depth': 9, 'learning_rate': 0.07992985163378898, 'l2_leaf_reg': 9.861221112519761}. Best is trial 14 with value: -1.6053956780568923.\n",
      "[I 2025-07-20 17:39:20,951] Trial 18 finished with value: -1.6136785477092965 and parameters: {'iterations': 882, 'depth': 6, 'learning_rate': 0.053850191804771096, 'l2_leaf_reg': 0.12587210417168845}. Best is trial 14 with value: -1.6053956780568923.\n",
      "[I 2025-07-20 17:39:39,422] Trial 19 finished with value: -1.6061351400893142 and parameters: {'iterations': 405, 'depth': 10, 'learning_rate': 0.19620657460938384, 'l2_leaf_reg': 2.4783252036743058}. Best is trial 14 with value: -1.6053956780568923.\n",
      "[I 2025-07-20 17:39:52,707] Trial 20 finished with value: -1.6141253426265934 and parameters: {'iterations': 265, 'depth': 9, 'learning_rate': 0.08514836710482873, 'l2_leaf_reg': 0.13690090991289164}. Best is trial 14 with value: -1.6053956780568923.\n",
      "[I 2025-07-20 17:40:31,165] Trial 21 finished with value: -1.6052807491827192 and parameters: {'iterations': 833, 'depth': 9, 'learning_rate': 0.15568200253896985, 'l2_leaf_reg': 2.3988824341833377}. Best is trial 21 with value: -1.6052807491827192.\n",
      "[I 2025-07-20 17:41:08,998] Trial 22 finished with value: -1.6051870927205447 and parameters: {'iterations': 874, 'depth': 10, 'learning_rate': 0.14210933067871875, 'l2_leaf_reg': 3.2281315401361868}. Best is trial 22 with value: -1.6051870927205447.\n"
     ]
    },
    {
     "name": "stdout",
     "output_type": "stream",
     "text": [
      "Best hyperparameters: {'iterations': 874, 'depth': 10, 'learning_rate': 0.14210933067871875, 'l2_leaf_reg': 3.2281315401361868}\n",
      "Best inner CV score (MAE): 1.6051870927205447\n"
     ]
    },
    {
     "name": "stderr",
     "output_type": "stream",
     "text": [
      "[I 2025-07-20 17:41:29,273] A new study created in memory with name: no-name-dd79fc0b-9db7-45ee-9870-ab68ee6c198e\n"
     ]
    },
    {
     "name": "stdout",
     "output_type": "stream",
     "text": [
      "Fold MAE: 1.5978\n",
      "\n",
      "=== Outer Fold 3/5 ===\n"
     ]
    },
    {
     "name": "stderr",
     "output_type": "stream",
     "text": [
      "[I 2025-07-20 17:41:51,632] Trial 0 finished with value: -1.614084995918951 and parameters: {'iterations': 824, 'depth': 6, 'learning_rate': 0.0496370059299021, 'l2_leaf_reg': 0.10319461418840263}. Best is trial 0 with value: -1.614084995918951.\n",
      "[I 2025-07-20 17:42:17,230] Trial 1 finished with value: -1.606902042036255 and parameters: {'iterations': 886, 'depth': 7, 'learning_rate': 0.12937393044826895, 'l2_leaf_reg': 0.14905293184556778}. Best is trial 1 with value: -1.606902042036255.\n",
      "[I 2025-07-20 17:42:40,323] Trial 2 finished with value: -1.621695051347002 and parameters: {'iterations': 642, 'depth': 10, 'learning_rate': 0.013072467014170086, 'l2_leaf_reg': 1.199204138009261}. Best is trial 1 with value: -1.606902042036255.\n",
      "[I 2025-07-20 17:43:02,752] Trial 3 finished with value: -1.626606596529685 and parameters: {'iterations': 815, 'depth': 6, 'learning_rate': 0.011874879529117258, 'l2_leaf_reg': 0.010729351842529957}. Best is trial 1 with value: -1.606902042036255.\n",
      "[I 2025-07-20 17:43:13,078] Trial 4 finished with value: -1.6115691059916424 and parameters: {'iterations': 364, 'depth': 6, 'learning_rate': 0.18122913578150465, 'l2_leaf_reg': 0.006238062121011701}. Best is trial 1 with value: -1.606902042036255.\n",
      "[I 2025-07-20 17:43:45,687] Trial 5 finished with value: -1.6081998882116333 and parameters: {'iterations': 945, 'depth': 9, 'learning_rate': 0.20424482289091048, 'l2_leaf_reg': 0.6365216724686662}. Best is trial 1 with value: -1.606902042036255.\n",
      "[I 2025-07-20 17:44:00,592] Trial 6 finished with value: -1.6216066156247269 and parameters: {'iterations': 667, 'depth': 4, 'learning_rate': 0.045217831098074944, 'l2_leaf_reg': 0.0036905501454568986}. Best is trial 1 with value: -1.606902042036255.\n",
      "[I 2025-07-20 17:44:20,090] Trial 7 finished with value: -1.6221008521741005 and parameters: {'iterations': 714, 'depth': 6, 'learning_rate': 0.022005979579239252, 'l2_leaf_reg': 0.0018749187736921127}. Best is trial 1 with value: -1.606902042036255.\n",
      "[I 2025-07-20 17:44:24,422] Trial 8 finished with value: -2.0851129533344133 and parameters: {'iterations': 101, 'depth': 10, 'learning_rate': 0.018464107745323755, 'l2_leaf_reg': 0.31165522142000557}. Best is trial 1 with value: -1.606902042036255.\n",
      "[I 2025-07-20 17:44:42,283] Trial 9 finished with value: -1.6280366033386506 and parameters: {'iterations': 793, 'depth': 4, 'learning_rate': 0.01773506779073146, 'l2_leaf_reg': 0.0010219259598113087}. Best is trial 1 with value: -1.606902042036255.\n",
      "[I 2025-07-20 17:44:55,963] Trial 10 finished with value: -1.6099522393584873 and parameters: {'iterations': 397, 'depth': 8, 'learning_rate': 0.1084012468412759, 'l2_leaf_reg': 3.7902267919488026}. Best is trial 1 with value: -1.606902042036255.\n",
      "[I 2025-07-20 17:45:33,018] Trial 11 finished with value: -1.6101033827015614 and parameters: {'iterations': 1000, 'depth': 8, 'learning_rate': 0.27670020581363636, 'l2_leaf_reg': 0.40177905679884957}. Best is trial 1 with value: -1.606902042036255.\n",
      "[I 2025-07-20 17:46:11,885] Trial 12 finished with value: -1.60546870656296 and parameters: {'iterations': 992, 'depth': 8, 'learning_rate': 0.11118393654355714, 'l2_leaf_reg': 0.030460539464217003}. Best is trial 12 with value: -1.60546870656296.\n",
      "[I 2025-07-20 17:46:47,912] Trial 13 finished with value: -1.6060547711985331 and parameters: {'iterations': 924, 'depth': 8, 'learning_rate': 0.09455459176102297, 'l2_leaf_reg': 0.031233237933305166}. Best is trial 12 with value: -1.60546870656296.\n",
      "[I 2025-07-20 17:47:08,245] Trial 14 finished with value: -1.6099838362145833 and parameters: {'iterations': 500, 'depth': 8, 'learning_rate': 0.08477810670951855, 'l2_leaf_reg': 0.027674998551480635}. Best is trial 12 with value: -1.60546870656296.\n",
      "[I 2025-07-20 17:47:52,870] Trial 15 finished with value: -1.6051337652809572 and parameters: {'iterations': 985, 'depth': 9, 'learning_rate': 0.07445657231527883, 'l2_leaf_reg': 0.02957894364083346}. Best is trial 15 with value: -1.6051337652809572.\n",
      "[I 2025-07-20 17:48:01,848] Trial 16 finished with value: -1.6276553736076826 and parameters: {'iterations': 176, 'depth': 9, 'learning_rate': 0.036088365154626795, 'l2_leaf_reg': 0.03063954928757542}. Best is trial 15 with value: -1.6051337652809572.\n",
      "[I 2025-07-20 17:48:47,208] Trial 17 finished with value: -1.605324295326379 and parameters: {'iterations': 997, 'depth': 9, 'learning_rate': 0.06491230767025913, 'l2_leaf_reg': 0.015013106860491633}. Best is trial 15 with value: -1.6051337652809572.\n",
      "[I 2025-07-20 17:49:12,022] Trial 18 finished with value: -1.6074440740003817 and parameters: {'iterations': 530, 'depth': 10, 'learning_rate': 0.07082302762804356, 'l2_leaf_reg': 0.011834356527885916}. Best is trial 15 with value: -1.6051337652809572.\n",
      "[I 2025-07-20 17:49:46,179] Trial 19 finished with value: -1.6126437523095554 and parameters: {'iterations': 750, 'depth': 9, 'learning_rate': 0.03184262791689561, 'l2_leaf_reg': 0.06457081742506757}. Best is trial 15 with value: -1.6051337652809572.\n",
      "[I 2025-07-20 17:50:08,331] Trial 20 finished with value: -1.6218962162952353 and parameters: {'iterations': 882, 'depth': 3, 'learning_rate': 0.07010300619565225, 'l2_leaf_reg': 7.192955969938122}. Best is trial 15 with value: -1.6051337652809572.\n",
      "[I 2025-07-20 17:50:45,026] Trial 21 finished with value: -1.6062348854427106 and parameters: {'iterations': 979, 'depth': 7, 'learning_rate': 0.1480054613607464, 'l2_leaf_reg': 0.01487552869527886}. Best is trial 15 with value: -1.6051337652809572.\n",
      "[I 2025-07-20 17:51:29,712] Trial 22 finished with value: -1.6058502626981959 and parameters: {'iterations': 1000, 'depth': 9, 'learning_rate': 0.0625299085730605, 'l2_leaf_reg': 0.004144990044016746}. Best is trial 15 with value: -1.6051337652809572.\n"
     ]
    },
    {
     "name": "stdout",
     "output_type": "stream",
     "text": [
      "Best hyperparameters: {'iterations': 985, 'depth': 9, 'learning_rate': 0.07445657231527883, 'l2_leaf_reg': 0.02957894364083346}\n",
      "Best inner CV score (MAE): 1.6051337652809572\n"
     ]
    },
    {
     "name": "stderr",
     "output_type": "stream",
     "text": [
      "[I 2025-07-20 17:51:51,233] A new study created in memory with name: no-name-2ea86869-da87-4af2-9ae0-d24a3e828a13\n"
     ]
    },
    {
     "name": "stdout",
     "output_type": "stream",
     "text": [
      "Fold MAE: 1.6030\n",
      "\n",
      "=== Outer Fold 4/5 ===\n"
     ]
    },
    {
     "name": "stderr",
     "output_type": "stream",
     "text": [
      "[I 2025-07-20 17:52:21,847] Trial 0 finished with value: -1.6193549883601739 and parameters: {'iterations': 924, 'depth': 6, 'learning_rate': 0.020986833609293067, 'l2_leaf_reg': 0.0024980872241516425}. Best is trial 0 with value: -1.6193549883601739.\n",
      "[I 2025-07-20 17:52:44,043] Trial 1 finished with value: -1.61210035562606 and parameters: {'iterations': 787, 'depth': 4, 'learning_rate': 0.16809417269871668, 'l2_leaf_reg': 1.5883643186326688}. Best is trial 1 with value: -1.61210035562606.\n",
      "[I 2025-07-20 17:53:09,198] Trial 2 finished with value: -1.6054115247339968 and parameters: {'iterations': 593, 'depth': 9, 'learning_rate': 0.22763016493862873, 'l2_leaf_reg': 3.8145477276201687}. Best is trial 2 with value: -1.6054115247339968.\n",
      "[I 2025-07-20 17:53:21,750] Trial 3 finished with value: -1.6104619338771744 and parameters: {'iterations': 285, 'depth': 9, 'learning_rate': 0.0981666022417392, 'l2_leaf_reg': 1.2034587435288178}. Best is trial 2 with value: -1.6054115247339968.\n",
      "[I 2025-07-20 17:53:26,404] Trial 4 finished with value: -1.614854855058126 and parameters: {'iterations': 112, 'depth': 7, 'learning_rate': 0.23316250394443194, 'l2_leaf_reg': 0.1719938947791352}. Best is trial 2 with value: -1.6054115247339968.\n",
      "[I 2025-07-20 17:54:00,515] Trial 5 finished with value: -1.6118931817455142 and parameters: {'iterations': 898, 'depth': 8, 'learning_rate': 0.033434903462014914, 'l2_leaf_reg': 0.8494453193436265}. Best is trial 2 with value: -1.6054115247339968.\n",
      "[I 2025-07-20 17:54:25,895] Trial 6 finished with value: -1.6070282502984103 and parameters: {'iterations': 771, 'depth': 6, 'learning_rate': 0.21636963587450142, 'l2_leaf_reg': 0.013786450363432698}. Best is trial 2 with value: -1.6054115247339968.\n",
      "[I 2025-07-20 17:54:35,639] Trial 7 finished with value: -1.6254280180257865 and parameters: {'iterations': 270, 'depth': 6, 'learning_rate': 0.037566942540629984, 'l2_leaf_reg': 0.3142029197670934}. Best is trial 2 with value: -1.6054115247339968.\n",
      "[I 2025-07-20 17:55:04,636] Trial 8 finished with value: -1.613575035770778 and parameters: {'iterations': 812, 'depth': 7, 'learning_rate': 0.03538911862288438, 'l2_leaf_reg': 0.5655626882352651}. Best is trial 2 with value: -1.6054115247339968.\n",
      "[I 2025-07-20 17:55:39,399] Trial 9 finished with value: -1.6095368112658914 and parameters: {'iterations': 998, 'depth': 9, 'learning_rate': 0.21197823651924397, 'l2_leaf_reg': 0.027145933630016075}. Best is trial 2 with value: -1.6054115247339968.\n",
      "[I 2025-07-20 17:55:59,411] Trial 10 finished with value: -1.6071664517366333 and parameters: {'iterations': 548, 'depth': 10, 'learning_rate': 0.06986333530583506, 'l2_leaf_reg': 8.148764310574533}. Best is trial 2 with value: -1.6054115247339968.\n",
      "[I 2025-07-20 17:56:13,605] Trial 11 finished with value: -1.6147017136415556 and parameters: {'iterations': 624, 'depth': 4, 'learning_rate': 0.12143811117224802, 'l2_leaf_reg': 0.014425331301815489}. Best is trial 2 with value: -1.6054115247339968.\n",
      "[I 2025-07-20 17:56:29,669] Trial 12 finished with value: -1.6089157374730103 and parameters: {'iterations': 649, 'depth': 5, 'learning_rate': 0.28229519810072656, 'l2_leaf_reg': 0.030941425818711475}. Best is trial 2 with value: -1.6054115247339968.\n",
      "[I 2025-07-20 17:56:41,109] Trial 13 finished with value: -1.6437015388245257 and parameters: {'iterations': 546, 'depth': 3, 'learning_rate': 0.012413631433609766, 'l2_leaf_reg': 0.0014119582540310848}. Best is trial 2 with value: -1.6054115247339968.\n",
      "[I 2025-07-20 17:56:54,419] Trial 14 finished with value: -1.6084966185374947 and parameters: {'iterations': 395, 'depth': 8, 'learning_rate': 0.13201781021502404, 'l2_leaf_reg': 0.010315081672135072}. Best is trial 2 with value: -1.6054115247339968.\n",
      "[I 2025-07-20 17:57:20,526] Trial 15 finished with value: -1.606134838983816 and parameters: {'iterations': 720, 'depth': 10, 'learning_rate': 0.06806207642890184, 'l2_leaf_reg': 8.857669627475907}. Best is trial 2 with value: -1.6054115247339968.\n",
      "[I 2025-07-20 17:57:46,060] Trial 16 finished with value: -1.6058272663313502 and parameters: {'iterations': 706, 'depth': 10, 'learning_rate': 0.07242331588853186, 'l2_leaf_reg': 8.451208620140477}. Best is trial 2 with value: -1.6054115247339968.\n",
      "[I 2025-07-20 17:58:02,499] Trial 17 finished with value: -1.6074917295454672 and parameters: {'iterations': 448, 'depth': 9, 'learning_rate': 0.09562487615297284, 'l2_leaf_reg': 3.018554032307031}. Best is trial 2 with value: -1.6054115247339968.\n",
      "[I 2025-07-20 17:58:19,382] Trial 18 finished with value: -1.6103669642241314 and parameters: {'iterations': 457, 'depth': 10, 'learning_rate': 0.051007155235411265, 'l2_leaf_reg': 3.986779977123214}. Best is trial 2 with value: -1.6054115247339968.\n",
      "[I 2025-07-20 17:58:41,829] Trial 19 finished with value: -1.618449983973426 and parameters: {'iterations': 668, 'depth': 8, 'learning_rate': 0.021667723652262633, 'l2_leaf_reg': 0.11186108496069924}. Best is trial 2 with value: -1.6054115247339968.\n",
      "[I 2025-07-20 17:59:03,083] Trial 20 finished with value: -1.605216055194245 and parameters: {'iterations': 593, 'depth': 9, 'learning_rate': 0.16010502434335755, 'l2_leaf_reg': 3.0925671937867336}. Best is trial 20 with value: -1.605216055194245.\n",
      "[I 2025-07-20 17:59:23,959] Trial 21 finished with value: -1.6046015366126785 and parameters: {'iterations': 591, 'depth': 9, 'learning_rate': 0.15760279674282912, 'l2_leaf_reg': 2.9478989943307874}. Best is trial 21 with value: -1.6046015366126785.\n",
      "[I 2025-07-20 17:59:44,826] Trial 22 finished with value: -1.6048821617078317 and parameters: {'iterations': 580, 'depth': 9, 'learning_rate': 0.15704637343602662, 'l2_leaf_reg': 3.0463621294950687}. Best is trial 21 with value: -1.6046015366126785.\n",
      "[I 2025-07-20 18:00:02,449] Trial 23 finished with value: -1.6063575921141462 and parameters: {'iterations': 537, 'depth': 8, 'learning_rate': 0.14979444612901238, 'l2_leaf_reg': 2.5397245002873787}. Best is trial 21 with value: -1.6046015366126785.\n",
      "[I 2025-07-20 18:00:16,296] Trial 24 finished with value: -1.6085095540419958 and parameters: {'iterations': 359, 'depth': 9, 'learning_rate': 0.10702462242814838, 'l2_leaf_reg': 0.38338106925386106}. Best is trial 21 with value: -1.6046015366126785.\n",
      "[I 2025-07-20 18:00:31,335] Trial 25 finished with value: -1.6073221272803027 and parameters: {'iterations': 482, 'depth': 7, 'learning_rate': 0.1725534418350675, 'l2_leaf_reg': 1.7713764555230873}. Best is trial 21 with value: -1.6046015366126785.\n",
      "[I 2025-07-20 18:00:53,023] Trial 26 finished with value: -1.6078053660504974 and parameters: {'iterations': 606, 'depth': 8, 'learning_rate': 0.29397061663357044, 'l2_leaf_reg': 0.7868954256583094}. Best is trial 21 with value: -1.6046015366126785.\n",
      "[I 2025-07-20 18:01:13,969] Trial 27 finished with value: -1.6079483376434263 and parameters: {'iterations': 487, 'depth': 9, 'learning_rate': 0.08361024253940613, 'l2_leaf_reg': 4.832584732602685}. Best is trial 21 with value: -1.6046015366126785.\n",
      "[I 2025-07-20 18:01:30,920] Trial 28 finished with value: -1.605710919794691 and parameters: {'iterations': 362, 'depth': 10, 'learning_rate': 0.1550052101650475, 'l2_leaf_reg': 0.23385275940493014}. Best is trial 21 with value: -1.6046015366126785.\n",
      "[I 2025-07-20 18:02:01,229] Trial 29 finished with value: -1.6093389612836215 and parameters: {'iterations': 879, 'depth': 7, 'learning_rate': 0.056612780412820585, 'l2_leaf_reg': 0.050817984723610155}. Best is trial 21 with value: -1.6046015366126785.\n"
     ]
    },
    {
     "name": "stdout",
     "output_type": "stream",
     "text": [
      "Best hyperparameters: {'iterations': 591, 'depth': 9, 'learning_rate': 0.15760279674282912, 'l2_leaf_reg': 2.9478989943307874}\n",
      "Best inner CV score (MAE): 1.6046015366126785\n"
     ]
    },
    {
     "name": "stderr",
     "output_type": "stream",
     "text": [
      "[I 2025-07-20 18:02:13,499] A new study created in memory with name: no-name-56b98783-4fb7-4ab5-9c7a-925f13dd7f0d\n"
     ]
    },
    {
     "name": "stdout",
     "output_type": "stream",
     "text": [
      "Fold MAE: 1.6068\n",
      "\n",
      "=== Outer Fold 5/5 ===\n"
     ]
    },
    {
     "name": "stderr",
     "output_type": "stream",
     "text": [
      "[I 2025-07-20 18:02:26,525] Trial 0 finished with value: -1.6137629761554653 and parameters: {'iterations': 506, 'depth': 4, 'learning_rate': 0.24470364218471438, 'l2_leaf_reg': 0.0011644715198410808}. Best is trial 0 with value: -1.6137629761554653.\n",
      "[I 2025-07-20 18:02:35,515] Trial 1 finished with value: -1.6195518936847382 and parameters: {'iterations': 334, 'depth': 4, 'learning_rate': 0.1231402231885677, 'l2_leaf_reg': 0.016817748419875937}. Best is trial 0 with value: -1.6137629761554653.\n",
      "[I 2025-07-20 18:02:41,798] Trial 2 finished with value: -1.6192534819834077 and parameters: {'iterations': 136, 'depth': 10, 'learning_rate': 0.07918298369893469, 'l2_leaf_reg': 0.04659818564350507}. Best is trial 0 with value: -1.6137629761554653.\n",
      "[I 2025-07-20 18:03:10,027] Trial 3 finished with value: -1.6059452211442107 and parameters: {'iterations': 692, 'depth': 9, 'learning_rate': 0.13467084493719597, 'l2_leaf_reg': 0.13673245647281168}. Best is trial 3 with value: -1.6059452211442107.\n",
      "[I 2025-07-20 18:03:34,159] Trial 4 finished with value: -1.6166541703686415 and parameters: {'iterations': 635, 'depth': 8, 'learning_rate': 0.02977214934951337, 'l2_leaf_reg': 0.054032893738581646}. Best is trial 3 with value: -1.6059452211442107.\n",
      "[I 2025-07-20 18:03:50,310] Trial 5 finished with value: -1.6350678908438205 and parameters: {'iterations': 605, 'depth': 4, 'learning_rate': 0.013141211560173916, 'l2_leaf_reg': 0.03146449278325898}. Best is trial 3 with value: -1.6059452211442107.\n",
      "[I 2025-07-20 18:04:18,820] Trial 6 finished with value: -1.6082537874639435 and parameters: {'iterations': 658, 'depth': 9, 'learning_rate': 0.06942335418984841, 'l2_leaf_reg': 4.331610419009575}. Best is trial 3 with value: -1.6059452211442107.\n",
      "[I 2025-07-20 18:04:27,684] Trial 7 finished with value: -1.6566464252737159 and parameters: {'iterations': 244, 'depth': 6, 'learning_rate': 0.017109239129926335, 'l2_leaf_reg': 2.0893234872436595}. Best is trial 3 with value: -1.6059452211442107.\n",
      "[I 2025-07-20 18:04:47,699] Trial 8 finished with value: -1.6172599699232288 and parameters: {'iterations': 665, 'depth': 5, 'learning_rate': 0.05739145426913895, 'l2_leaf_reg': 1.7638100769988008}. Best is trial 3 with value: -1.6059452211442107.\n",
      "[I 2025-07-20 18:05:16,953] Trial 9 finished with value: -1.609417721735495 and parameters: {'iterations': 938, 'depth': 5, 'learning_rate': 0.18927450779721708, 'l2_leaf_reg': 0.0020921296385715054}. Best is trial 3 with value: -1.6059452211442107.\n",
      "[I 2025-07-20 18:05:55,812] Trial 10 finished with value: -1.6124471709822439 and parameters: {'iterations': 941, 'depth': 8, 'learning_rate': 0.031701505961565665, 'l2_leaf_reg': 0.5766045353416202}. Best is trial 3 with value: -1.6059452211442107.\n",
      "[I 2025-07-20 18:06:31,809] Trial 11 finished with value: -1.6052238976500224 and parameters: {'iterations': 774, 'depth': 10, 'learning_rate': 0.08352165081492935, 'l2_leaf_reg': 9.62438648979441}. Best is trial 11 with value: -1.6052238976500224.\n",
      "[I 2025-07-20 18:07:06,525] Trial 12 finished with value: -1.605993401260254 and parameters: {'iterations': 807, 'depth': 10, 'learning_rate': 0.14216077579307346, 'l2_leaf_reg': 0.18963581942729882}. Best is trial 11 with value: -1.6052238976500224.\n",
      "[I 2025-07-20 18:07:37,452] Trial 13 finished with value: -1.6066966681714439 and parameters: {'iterations': 783, 'depth': 8, 'learning_rate': 0.11319028996573643, 'l2_leaf_reg': 7.607051889772511}. Best is trial 11 with value: -1.6052238976500224.\n",
      "[I 2025-07-20 18:07:58,572] Trial 14 finished with value: -1.6143064552597022 and parameters: {'iterations': 469, 'depth': 9, 'learning_rate': 0.043043272489641515, 'l2_leaf_reg': 0.007437978059605017}. Best is trial 11 with value: -1.6052238976500224.\n",
      "[I 2025-07-20 18:08:27,754] Trial 15 finished with value: -1.608822757664402 and parameters: {'iterations': 796, 'depth': 7, 'learning_rate': 0.29939657988641954, 'l2_leaf_reg': 0.2077993748356068}. Best is trial 11 with value: -1.6052238976500224.\n",
      "[I 2025-07-20 18:08:47,427] Trial 16 finished with value: -1.6076200428877716 and parameters: {'iterations': 399, 'depth': 10, 'learning_rate': 0.08906534557023503, 'l2_leaf_reg': 0.6804077580873137}. Best is trial 11 with value: -1.6052238976500224.\n",
      "[I 2025-07-20 18:09:21,248] Trial 17 finished with value: -1.6070051155056382 and parameters: {'iterations': 750, 'depth': 9, 'learning_rate': 0.17525370513588798, 'l2_leaf_reg': 0.006560622373420656}. Best is trial 11 with value: -1.6052238976500224.\n",
      "[I 2025-07-20 18:09:57,069] Trial 18 finished with value: -1.6120997493270313 and parameters: {'iterations': 979, 'depth': 7, 'learning_rate': 0.03916299312266421, 'l2_leaf_reg': 0.5216867176685989}. Best is trial 11 with value: -1.6052238976500224.\n",
      "[I 2025-07-20 18:10:34,933] Trial 19 finished with value: -1.6050746373359008 and parameters: {'iterations': 854, 'depth': 9, 'learning_rate': 0.09593085470665648, 'l2_leaf_reg': 1.9207743346721886}. Best is trial 19 with value: -1.6050746373359008.\n",
      "[I 2025-07-20 18:11:14,303] Trial 20 finished with value: -1.6136069776242448 and parameters: {'iterations': 869, 'depth': 10, 'learning_rate': 0.021515000568354623, 'l2_leaf_reg': 7.993602348448629}. Best is trial 19 with value: -1.6050746373359008.\n",
      "[I 2025-07-20 18:11:45,672] Trial 21 finished with value: -1.6056504948995132 and parameters: {'iterations': 706, 'depth': 9, 'learning_rate': 0.09768935129978402, 'l2_leaf_reg': 2.406631041584489}. Best is trial 19 with value: -1.6050746373359008.\n",
      "[I 2025-07-20 18:12:19,682] Trial 22 finished with value: -1.6070670477492195 and parameters: {'iterations': 832, 'depth': 8, 'learning_rate': 0.08659156058727441, 'l2_leaf_reg': 2.431738338984232}. Best is trial 19 with value: -1.6050746373359008.\n"
     ]
    },
    {
     "name": "stdout",
     "output_type": "stream",
     "text": [
      "Best hyperparameters: {'iterations': 854, 'depth': 9, 'learning_rate': 0.09593085470665648, 'l2_leaf_reg': 1.9207743346721886}\n",
      "Best inner CV score (MAE): 1.6050746373359008\n",
      "Fold MAE: 1.6021\n",
      "\n",
      "Final MAE across folds: 1.6019 ± 0.0031\n"
     ]
    }
   ],
   "source": [
    "import optuna\n",
    "import numpy as np\n",
    "from sklearn.model_selection import KFold, cross_val_score\n",
    "from sklearn.metrics import mean_absolute_error, make_scorer\n",
    "from catboost import CatBoostRegressor\n",
    "\n",
    "outer_cv = KFold(n_splits=5, shuffle=True, random_state=42)\n",
    "scorer = make_scorer(mean_absolute_error, greater_is_better=False)\n",
    "\n",
    "def optimize_catboost(X_train, y_train):\n",
    "    def objective(trial):\n",
    "        params = {\n",
    "            \"iterations\": trial.suggest_int(\"iterations\", 100, 1000),\n",
    "            \"depth\": trial.suggest_int(\"depth\", 3, 10),\n",
    "            \"learning_rate\": trial.suggest_float(\"learning_rate\", 0.01, 0.3, log=True),\n",
    "            \"l2_leaf_reg\": trial.suggest_float(\"l2_leaf_reg\", 1e-3, 10.0, log=True),\n",
    "        }\n",
    "        model = CatBoostRegressor(**params, random_state=42, verbose=0)\n",
    "        inner_cv = KFold(n_splits=3, shuffle=True, random_state=42)\n",
    "        score = cross_val_score(model, X_train, y_train, cv=inner_cv, scoring=scorer, n_jobs=-1)\n",
    "        return np.mean(score)\n",
    "\n",
    "    study = optuna.create_study(direction=\"maximize\")\n",
    "    study.optimize(objective, n_trials=30, timeout=600)\n",
    "\n",
    "    print(\"Best hyperparameters:\", study.best_params)\n",
    "    print(\"Best inner CV score (MAE):\", -study.best_value)\n",
    "    return study.best_params\n",
    "\n",
    "\n",
    "# Outer loop for nested CV\n",
    "outer_scores = []\n",
    "\n",
    "for fold, (train_idx, test_idx) in enumerate(outer_cv.split(X)):\n",
    "    print(f\"\\n=== Outer Fold {fold+1}/5 ===\")\n",
    "    X_train, X_val = X[train_idx], X[test_idx]\n",
    "    y_train, y_val = y[train_idx], y[test_idx]\n",
    "\n",
    "    # Tune model using inner CV\n",
    "    best_params = optimize_catboost(X_train, y_train)\n",
    "\n",
    "    # Train best model on full inner training set\n",
    "    model = CatBoostRegressor(**best_params, random_state=42, verbose=0)\n",
    "    model.fit(X_train, y_train)\n",
    "\n",
    "    # Evaluate on validation fold\n",
    "    preds = model.predict(X_val)\n",
    "    score = mean_absolute_error(y_val, preds)\n",
    "    outer_scores.append(score)\n",
    "    print(f\"Fold MAE: {score:.4f}\")\n",
    "\n",
    "print(f\"\\nFinal MAE across folds: {np.mean(outer_scores):.4f} ± {np.std(outer_scores):.4f}\")\n"
   ]
  }
 ],
 "metadata": {
  "kernelspec": {
   "display_name": "Rice_env",
   "language": "python",
   "name": "python3"
  },
  "language_info": {
   "codemirror_mode": {
    "name": "ipython",
    "version": 3
   },
   "file_extension": ".py",
   "mimetype": "text/x-python",
   "name": "python",
   "nbconvert_exporter": "python",
   "pygments_lexer": "ipython3",
   "version": "3.9.21"
  }
 },
 "nbformat": 4,
 "nbformat_minor": 2
}
